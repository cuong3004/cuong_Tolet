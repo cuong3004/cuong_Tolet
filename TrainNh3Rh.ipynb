{
  "cells": [
    {
      "cell_type": "code",
      "source": [
        "!pip install -U gdown \n",
        "!pip install torchmetrics\n",
        "!gdown --id 1n-YeSOxjOOKyhaU1OE3Bqp_HmDm3pIqq"
      ],
      "metadata": {
        "id": "q1N_fsJQjJWa",
        "outputId": "b641c247-1467-4446-9839-92668e1bdf80",
        "colab": {
          "base_uri": "https://localhost:8080/"
        }
      },
      "execution_count": null,
      "outputs": [
        {
          "output_type": "stream",
          "name": "stdout",
          "text": [
            "Looking in indexes: https://pypi.org/simple, https://us-python.pkg.dev/colab-wheels/public/simple/\n",
            "Requirement already satisfied: gdown in /usr/local/lib/python3.8/dist-packages (4.6.0)\n",
            "Requirement already satisfied: six in /usr/local/lib/python3.8/dist-packages (from gdown) (1.15.0)\n",
            "Requirement already satisfied: requests[socks] in /usr/local/lib/python3.8/dist-packages (from gdown) (2.23.0)\n",
            "Requirement already satisfied: beautifulsoup4 in /usr/local/lib/python3.8/dist-packages (from gdown) (4.6.3)\n",
            "Requirement already satisfied: filelock in /usr/local/lib/python3.8/dist-packages (from gdown) (3.8.2)\n",
            "Requirement already satisfied: tqdm in /usr/local/lib/python3.8/dist-packages (from gdown) (4.64.1)\n",
            "Requirement already satisfied: certifi>=2017.4.17 in /usr/local/lib/python3.8/dist-packages (from requests[socks]->gdown) (2022.12.7)\n",
            "Requirement already satisfied: idna<3,>=2.5 in /usr/local/lib/python3.8/dist-packages (from requests[socks]->gdown) (2.10)\n",
            "Requirement already satisfied: urllib3!=1.25.0,!=1.25.1,<1.26,>=1.21.1 in /usr/local/lib/python3.8/dist-packages (from requests[socks]->gdown) (1.24.3)\n",
            "Requirement already satisfied: chardet<4,>=3.0.2 in /usr/local/lib/python3.8/dist-packages (from requests[socks]->gdown) (3.0.4)\n",
            "Requirement already satisfied: PySocks!=1.5.7,>=1.5.6 in /usr/local/lib/python3.8/dist-packages (from requests[socks]->gdown) (1.7.1)\n",
            "Looking in indexes: https://pypi.org/simple, https://us-python.pkg.dev/colab-wheels/public/simple/\n",
            "Requirement already satisfied: torchmetrics in /usr/local/lib/python3.8/dist-packages (0.11.0)\n",
            "Requirement already satisfied: packaging in /usr/local/lib/python3.8/dist-packages (from torchmetrics) (21.3)\n",
            "Requirement already satisfied: torch>=1.8.1 in /usr/local/lib/python3.8/dist-packages (from torchmetrics) (1.13.0+cu116)\n",
            "Requirement already satisfied: typing-extensions in /usr/local/lib/python3.8/dist-packages (from torchmetrics) (4.4.0)\n",
            "Requirement already satisfied: numpy>=1.17.2 in /usr/local/lib/python3.8/dist-packages (from torchmetrics) (1.21.6)\n",
            "Requirement already satisfied: pyparsing!=3.0.5,>=2.0.2 in /usr/local/lib/python3.8/dist-packages (from packaging->torchmetrics) (3.0.9)\n",
            "/usr/local/lib/python3.8/dist-packages/gdown/cli.py:121: FutureWarning: Option `--id` was deprecated in version 4.3.1 and will be removed in 5.0. You don't need to pass it anymore to use a file ID.\n",
            "  warnings.warn(\n",
            "Downloading...\n",
            "From: https://drive.google.com/uc?id=1n-YeSOxjOOKyhaU1OE3Bqp_HmDm3pIqq\n",
            "To: /content/file.csv\n",
            "100% 354k/354k [00:00<00:00, 143MB/s]\n"
          ]
        }
      ]
    },
    {
      "cell_type": "code",
      "source": [
        "import pandas as pd\n",
        "df = pd.read_csv(\"/content/file.csv\")"
      ],
      "metadata": {
        "id": "EazUWBSjjf69"
      },
      "execution_count": null,
      "outputs": []
    },
    {
      "cell_type": "code",
      "source": [
        "df_data = df[[\"TimeProcess\",\"People\", \"H\", \"Positive\", \"Negative\", \"NH3\", 'label']]\n"
      ],
      "metadata": {
        "id": "SJIQGSsijf4h"
      },
      "execution_count": null,
      "outputs": []
    },
    {
      "cell_type": "code",
      "source": [
        "df_data = (df_data-df_data.min(0)) / (df_data.max(0) - df_data.min(0))"
      ],
      "metadata": {
        "id": "DDJPZxLxjf2K"
      },
      "execution_count": null,
      "outputs": []
    },
    {
      "cell_type": "code",
      "source": [
        "df_data"
      ],
      "metadata": {
        "id": "ALYyqDHZws-A"
      },
      "execution_count": null,
      "outputs": []
    },
    {
      "cell_type": "code",
      "source": [
        "df_data_label = df[\"NH3\"]"
      ],
      "metadata": {
        "id": "hY50yxxd0OVU"
      },
      "execution_count": null,
      "outputs": []
    },
    {
      "cell_type": "code",
      "source": [
        "df_data[:5]"
      ],
      "metadata": {
        "id": "l6zU5Kvk0XRk"
      },
      "execution_count": null,
      "outputs": []
    },
    {
      "cell_type": "code",
      "source": [
        "len_train = int(len(df_data[\"NH3\"])*0.8)"
      ],
      "metadata": {
        "id": "4ftI6nItwx3t"
      },
      "execution_count": null,
      "outputs": []
    },
    {
      "cell_type": "code",
      "source": [
        "train_data = df_data.values[:len_train]\n",
        "train_label = df_data[\"H\"].values[:len_train][:,None]\n",
        "\n",
        "valid_data = df_data.values[len_train:]\n",
        "valid_label = df_data[\"H\"].values[len_train:][:,None]"
      ],
      "metadata": {
        "id": "JmzBvG0Ujfzp"
      },
      "execution_count": null,
      "outputs": []
    },
    {
      "cell_type": "code",
      "source": [
        "from keras.models import Sequential\n",
        "from keras.layers import Dense\n",
        "from keras.layers import LSTM, SimpleRNN\n",
        "import numpy as np\n",
        "from keras.preprocessing.sequence import TimeseriesGenerator\n",
        "\n",
        "n_input = 5\n",
        "n_features = 7\n",
        "generator = TimeseriesGenerator(train_data, train_label, length=n_input, batch_size=16)\n",
        "val_generator = TimeseriesGenerator(valid_data, valid_label, length=n_input, batch_size=16)\n",
        "# define model\n",
        "model = Sequential()\n",
        "model.add(LSTM(32, activation='relu', input_shape=(n_input, n_features)))\n",
        "model.add(Dense(1))\n",
        "\n",
        "from keras import backend as K\n",
        "\n",
        "def root_mean_squared_error(y_true, y_pred):\n",
        "        return K.sqrt(K.mean(K.square(y_pred - y_true))) \n",
        "model.compile(optimizer='adam', loss='mae')\n",
        "model.fit(generator, validation_data=val_generator,epochs=20)\n"
      ],
      "metadata": {
        "id": "azyK9P9BdwAm"
      },
      "execution_count": null,
      "outputs": []
    },
    {
      "cell_type": "markdown",
      "source": [
        "```\n",
        "nh3--\n",
        "rnn 0.0906 lstm 0.0875 -- rmse * (df_data.max(0) - df_data.min(0)).values[5]\n",
        "rnn 0.0740 lstm 0.0707 -- mae * (df_data.max(0) - df_data.min(0)).values[5]\n",
        "\n",
        "rh--\n",
        "rnn 0.0997 lstm 0.0982 -- rmse * (df_data.max(0) - df_data.min(0)).values[2]\n",
        "rnn 0.0783 lstm 0.0773 -- mae * (df_data.max(0) - df_data.min(0)).values[2]\n",
        "\n",
        "\n",
        "```"
      ],
      "metadata": {
        "id": "EYCgrpKWpSbC"
      }
    }
  ],
  "metadata": {
    "colab": {
      "provenance": []
    },
    "kernelspec": {
      "display_name": "Python 3",
      "name": "python3"
    },
    "accelerator": "GPU",
    "gpuClass": "standard"
  },
  "nbformat": 4,
  "nbformat_minor": 0
}